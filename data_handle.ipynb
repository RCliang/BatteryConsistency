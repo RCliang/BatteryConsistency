{
 "cells": [
  {
   "cell_type": "code",
   "execution_count": 171,
   "id": "f740edbf-9d60-46c9-8151-ad8036f0fbe3",
   "metadata": {
    "tags": []
   },
   "outputs": [],
   "source": [
    "from typing import Any\n",
    "from torch.utils.data import DataLoader, Dataset\n",
    "from config import *\n",
    "import polars as pl\n",
    "import os\n",
    "import torch\n",
    "import torch.nn.functional as F\n",
    "from data_process_pl import make_label, target_car_dict, get_cycle_charge\n",
    "import matplotlib.pyplot as plt\n",
    "from data_process_pl import *"
   ]
  },
  {
   "cell_type": "code",
   "execution_count": 2,
   "id": "a9838df3-3f20-4edf-9597-6b42763d7b1f",
   "metadata": {
    "tags": []
   },
   "outputs": [],
   "source": [
    "class processor:\n",
    "    def __init__(self, groups, seq_len, step_size) -> None:\n",
    "        self.groups = groups\n",
    "        self.seq_len = seq_len\n",
    "        self.step_size = step_size\n",
    "    \n",
    "    def process_data(self, data:pl.DataFrame):\n",
    "        final_res = []\n",
    "        for item in data.groupby(self.groups):\n",
    "            data_tmp = item[1]\n",
    "            l = data_tmp.shape[0]\n",
    "            if l < seq_len:\n",
    "                continue\n",
    "            steps = int((l-self.seq_len)//self.step_size+1)\n",
    "            for i in range(steps):\n",
    "                X_tensor = torch.from_numpy(data_tmp[self.step_size*i:self.step_size*i+self.seq_len].to_numpy())\n",
    "                final_res.append(X_tensor)\n",
    "            X_tensor = torch.from_numpy(data_tmp[-self.seq_len:].to_numpy())\n",
    "            final_res.append(X_tensor)\n",
    "        ares = torch.cat(final_res)\n",
    "        ares = ares.reshape((-1, self.seq_len, data.shape[1]))\n",
    "        return ares\n",
    "\n",
    "class BatteryData(Dataset):\n",
    "    def __init__(self, data_dir, processor) -> None:\n",
    "        super().__init__()\n",
    "        self.processor = processor\n",
    "        self.pl_data = pl.read_parquet(data_dir)\n",
    "\n",
    "    def __len__(self):\n",
    "        return self.pl_data.shape[0]\n",
    "    \n",
    "    def __getitem__(self, index: Any) -> Any:\n",
    "        ares = self.processor.process_data()\n",
    "        X = ares[:, :, 3:]\n",
    "        Y = ares[:, :, 2]\n",
    "        return X[index], Y[index]\n",
    "    \n",
    "    @staticmethod\n",
    "    def get_data_info(data_dir):\n",
    "        data_info={}\n",
    "        for root, dirs, files in os.walk(data_dir):\n",
    "            for file in files:\n",
    "                file_path = os.path.join(root, file)\n",
    "                print(f\"file: {file}\")\n",
    "                data = pl.read_parquet(file_path)\n",
    "                yield data\n",
    "    "
   ]
  },
  {
   "cell_type": "code",
   "execution_count": 3,
   "id": "e5bf8ce2-13c8-44d1-88a7-f0bad23c49b7",
   "metadata": {
    "tags": []
   },
   "outputs": [],
   "source": [
    "df_charge = pl.read_parquet('data/D3_4_5.parquet')"
   ]
  },
  {
   "cell_type": "code",
   "execution_count": 4,
   "id": "65eb9f1b-b1e8-4cd7-bf12-5c9a93056184",
   "metadata": {
    "tags": []
   },
   "outputs": [],
   "source": [
    "def get_charge_data(car_no):\n",
    "    df_charge = pl.read_parquet(f\"data/{car_no}_4_5.parquet\")\n",
    "    df_charge = df_charge.with_columns(change=pl.col(\"D24\").diff())\n",
    "    df_charge = df_charge.filter(pl.col(\"change\")<1)\n",
    "    df_charge = df_charge.sort(\"samplingtimesec\")\n",
    "    df_charge = get_cycle_charge(df_charge)\n",
    "    return df_charge"
   ]
  },
  {
   "cell_type": "code",
   "execution_count": 5,
   "id": "5501ba89-06d9-406e-80f2-53c5b82c0ace",
   "metadata": {
    "tags": []
   },
   "outputs": [],
   "source": [
    "df_charge = get_charge_data(\"D3\")"
   ]
  },
  {
   "cell_type": "code",
   "execution_count": 6,
   "id": "1ccbb05e-4cd7-4c10-b0b4-2156779942a9",
   "metadata": {
    "tags": []
   },
   "outputs": [],
   "source": [
    "df_charge = make_label(df_charge, target_car_dict['D3'])"
   ]
  },
  {
   "cell_type": "code",
   "execution_count": 7,
   "id": "00bff8c4-7700-4a72-b00b-f4df0cd11cfd",
   "metadata": {
    "tags": []
   },
   "outputs": [],
   "source": [
    "def preprocess(df):\n",
    "    df = df.with_columns(pl.col('D24').floor().alias(\"D24_int\"))\n",
    "    df = df.with_columns(soc_diff = pl.col('D40')-pl.col('D41'))\n",
    "    df = df.with_columns([pl.col(f\"D135_{i}\").cast(pl.Float32) for i in range(1,113)])\n",
    "    df = df.with_columns([pl.col(col_name).cast(pl.Int32) for col_name in ['cycle','D24_int','label','D27']])\n",
    "    df = df.with_columns([pl.col(f\"D136_{i}\").cast(pl.Float32) for i in range(1,29)])\n",
    "    df = df.with_columns([pl.col(col_name).cast(pl.Float32) for col_name in ['D27','soc_diff','D22','D356','D52','D334','D290','D133']])\n",
    "    df = df.with_columns([pl.col(f\"D14{i}\").cast(pl.Float32) for i in range(2)])\n",
    "    return df"
   ]
  },
  {
   "cell_type": "code",
   "execution_count": 8,
   "id": "e7f84cfa-4153-42b2-b351-29ce007e7eda",
   "metadata": {
    "tags": []
   },
   "outputs": [],
   "source": [
    "df_charge = preprocess(df_charge)"
   ]
  },
  {
   "cell_type": "code",
   "execution_count": null,
   "id": "91b137b4-23d3-4abd-9143-2f807cf8db77",
   "metadata": {},
   "outputs": [],
   "source": [
    "# numerical： D135, D136, soc_diff, D22电池电流, D356(drop), D52低电压, D334内部压力, D24SOC, D40,D41,D44均衡时间,D72开关次数,D117环境温度,D133里程\n",
    "# cat: D27电池均衡状态, D19状态"
   ]
  },
  {
   "cell_type": "code",
   "execution_count": 46,
   "id": "a06fe8f6-9839-4250-8e63-4f0a200dc645",
   "metadata": {
    "tags": []
   },
   "outputs": [
    {
     "data": {
      "text/html": [
       "<div><style>\n",
       ".dataframe > thead > tr > th,\n",
       ".dataframe > tbody > tr > td {\n",
       "  text-align: right;\n",
       "}\n",
       "</style>\n",
       "<small>shape: (5, 172)</small><table border=\"1\" class=\"dataframe\"><thead><tr><th>samplingtimesec</th><th>D140</th><th>D141</th><th>D19</th><th>D22</th><th>D24</th><th>D40</th><th>D41</th><th>D44</th><th>D27</th><th>D72</th><th>D52</th><th>D117</th><th>D133</th><th>D334</th><th>D356</th><th>D290</th><th>D135_1</th><th>D135_2</th><th>D135_3</th><th>D135_4</th><th>D135_5</th><th>D135_6</th><th>D135_7</th><th>D135_8</th><th>D135_9</th><th>D135_10</th><th>D135_11</th><th>D135_12</th><th>D135_13</th><th>D135_14</th><th>D135_15</th><th>D135_16</th><th>D135_17</th><th>D135_18</th><th>D135_19</th><th>D135_20</th><th>&hellip;</th><th>D136_2</th><th>D136_3</th><th>D136_4</th><th>D136_5</th><th>D136_6</th><th>D136_7</th><th>D136_8</th><th>D136_9</th><th>D136_10</th><th>D136_11</th><th>D136_12</th><th>D136_13</th><th>D136_14</th><th>D136_15</th><th>D136_16</th><th>D136_17</th><th>D136_18</th><th>D136_19</th><th>D136_20</th><th>D136_21</th><th>D136_22</th><th>D136_23</th><th>D136_24</th><th>D136_25</th><th>D136_26</th><th>D136_27</th><th>D136_28</th><th>D136_mean</th><th>D136_min</th><th>D136_max</th><th>D136_std</th><th>D136_diff</th><th>change</th><th>cycle</th><th>label</th><th>D24_int</th><th>soc_diff</th></tr><tr><td>i64</td><td>f32</td><td>f32</td><td>i64</td><td>f32</td><td>f64</td><td>f64</td><td>f64</td><td>i64</td><td>f32</td><td>i64</td><td>f32</td><td>f64</td><td>f32</td><td>f32</td><td>f32</td><td>f32</td><td>f32</td><td>f32</td><td>f32</td><td>f32</td><td>f32</td><td>f32</td><td>f32</td><td>f32</td><td>f32</td><td>f32</td><td>f32</td><td>f32</td><td>f32</td><td>f32</td><td>f32</td><td>f32</td><td>f32</td><td>f32</td><td>f32</td><td>f32</td><td>&hellip;</td><td>f32</td><td>f32</td><td>f32</td><td>f32</td><td>f32</td><td>f32</td><td>f32</td><td>f32</td><td>f32</td><td>f32</td><td>f32</td><td>f32</td><td>f32</td><td>f32</td><td>f32</td><td>f32</td><td>f32</td><td>f32</td><td>f32</td><td>f32</td><td>f32</td><td>f32</td><td>f32</td><td>f32</td><td>f32</td><td>f32</td><td>f32</td><td>f64</td><td>f64</td><td>f64</td><td>f64</td><td>f64</td><td>f64</td><td>i32</td><td>i32</td><td>i32</td><td>f32</td></tr></thead><tbody><tr><td>1630677745000</td><td>0.0</td><td>421.0</td><td>4</td><td>-218.399994</td><td>60.7</td><td>61.0</td><td>59.5</td><td>0</td><td>0.0</td><td>0</td><td>14.4</td><td>25.0</td><td>6.0</td><td>101.300003</td><td>36.0</td><td>446.0</td><td>3964.0</td><td>3967.0</td><td>3960.0</td><td>3963.0</td><td>3963.0</td><td>3962.0</td><td>3961.0</td><td>3962.0</td><td>3965.0</td><td>3964.0</td><td>3968.0</td><td>3968.0</td><td>3967.0</td><td>3971.0</td><td>3964.0</td><td>3970.0</td><td>3965.0</td><td>3964.0</td><td>3977.0</td><td>3974.0</td><td>&hellip;</td><td>28.0</td><td>27.5</td><td>27.5</td><td>28.0</td><td>27.5</td><td>28.0</td><td>28.0</td><td>28.0</td><td>28.0</td><td>29.0</td><td>29.0</td><td>29.5</td><td>29.0</td><td>30.0</td><td>29.5</td><td>29.0</td><td>29.0</td><td>28.5</td><td>28.5</td><td>28.5</td><td>28.0</td><td>28.0</td><td>27.5</td><td>27.5</td><td>27.5</td><td>28.0</td><td>28.5</td><td>28.339286</td><td>27.5</td><td>30.0</td><td>0.682087</td><td>2.5</td><td>0.0</td><td>1</td><td>0</td><td>60</td><td>1.5</td></tr><tr><td>1630677746000</td><td>0.0</td><td>421.0</td><td>4</td><td>-218.399994</td><td>60.7</td><td>61.0</td><td>59.5</td><td>0</td><td>0.0</td><td>0</td><td>14.4</td><td>25.0</td><td>6.0</td><td>101.400002</td><td>36.0</td><td>446.0</td><td>3964.0</td><td>3967.0</td><td>3961.0</td><td>3963.0</td><td>3963.0</td><td>3962.0</td><td>3961.0</td><td>3962.0</td><td>3965.0</td><td>3965.0</td><td>3969.0</td><td>3969.0</td><td>3967.0</td><td>3971.0</td><td>3964.0</td><td>3971.0</td><td>3965.0</td><td>3964.0</td><td>3977.0</td><td>3975.0</td><td>&hellip;</td><td>28.0</td><td>27.5</td><td>27.5</td><td>28.0</td><td>27.5</td><td>28.0</td><td>28.0</td><td>28.0</td><td>28.0</td><td>29.0</td><td>29.0</td><td>29.5</td><td>29.0</td><td>30.0</td><td>29.5</td><td>29.0</td><td>29.0</td><td>28.5</td><td>28.5</td><td>28.5</td><td>28.0</td><td>28.0</td><td>27.5</td><td>27.5</td><td>27.5</td><td>28.0</td><td>28.5</td><td>28.339286</td><td>27.5</td><td>30.0</td><td>0.682087</td><td>2.5</td><td>0.0</td><td>1</td><td>0</td><td>60</td><td>1.5</td></tr><tr><td>1630677747000</td><td>0.0</td><td>422.0</td><td>4</td><td>-218.399994</td><td>60.8</td><td>61.0</td><td>59.5</td><td>0</td><td>0.0</td><td>0</td><td>14.4</td><td>25.0</td><td>6.0</td><td>101.400002</td><td>37.0</td><td>446.0</td><td>3964.0</td><td>3968.0</td><td>3961.0</td><td>3964.0</td><td>3964.0</td><td>3962.0</td><td>3962.0</td><td>3962.0</td><td>3965.0</td><td>3965.0</td><td>3969.0</td><td>3969.0</td><td>3967.0</td><td>3971.0</td><td>3965.0</td><td>3971.0</td><td>3966.0</td><td>3965.0</td><td>3977.0</td><td>3975.0</td><td>&hellip;</td><td>28.0</td><td>27.5</td><td>27.5</td><td>28.0</td><td>27.5</td><td>28.0</td><td>28.0</td><td>28.0</td><td>28.0</td><td>29.0</td><td>29.0</td><td>29.5</td><td>29.0</td><td>30.0</td><td>29.5</td><td>29.0</td><td>29.0</td><td>28.5</td><td>28.5</td><td>28.5</td><td>28.0</td><td>28.0</td><td>27.5</td><td>27.5</td><td>27.5</td><td>28.0</td><td>28.5</td><td>28.339286</td><td>27.5</td><td>30.0</td><td>0.682087</td><td>2.5</td><td>0.1</td><td>1</td><td>0</td><td>60</td><td>1.5</td></tr><tr><td>1630677748000</td><td>0.0</td><td>422.0</td><td>4</td><td>-218.399994</td><td>60.8</td><td>61.0</td><td>59.5</td><td>0</td><td>0.0</td><td>0</td><td>14.4</td><td>25.0</td><td>6.0</td><td>101.400002</td><td>37.0</td><td>446.0</td><td>3965.0</td><td>3968.0</td><td>3962.0</td><td>3964.0</td><td>3964.0</td><td>3963.0</td><td>3963.0</td><td>3963.0</td><td>3966.0</td><td>3966.0</td><td>3970.0</td><td>3969.0</td><td>3968.0</td><td>3972.0</td><td>3965.0</td><td>3972.0</td><td>3966.0</td><td>3966.0</td><td>3978.0</td><td>3976.0</td><td>&hellip;</td><td>28.0</td><td>27.5</td><td>27.5</td><td>28.0</td><td>27.5</td><td>28.0</td><td>28.0</td><td>28.0</td><td>28.0</td><td>29.0</td><td>29.0</td><td>29.5</td><td>29.0</td><td>30.0</td><td>29.5</td><td>29.0</td><td>29.0</td><td>28.5</td><td>28.5</td><td>28.5</td><td>28.0</td><td>28.0</td><td>27.5</td><td>27.5</td><td>27.5</td><td>28.0</td><td>28.5</td><td>28.339286</td><td>27.5</td><td>30.0</td><td>0.682087</td><td>2.5</td><td>0.0</td><td>1</td><td>0</td><td>60</td><td>1.5</td></tr><tr><td>1630677749000</td><td>0.0</td><td>422.0</td><td>4</td><td>-218.399994</td><td>60.8</td><td>61.0</td><td>59.5</td><td>0</td><td>0.0</td><td>0</td><td>14.3</td><td>25.0</td><td>6.0</td><td>null</td><td>null</td><td>null</td><td>3965.0</td><td>3969.0</td><td>3962.0</td><td>3965.0</td><td>3965.0</td><td>3963.0</td><td>3963.0</td><td>3963.0</td><td>3966.0</td><td>3966.0</td><td>3970.0</td><td>3970.0</td><td>3969.0</td><td>3972.0</td><td>3966.0</td><td>3972.0</td><td>3966.0</td><td>3966.0</td><td>3978.0</td><td>3976.0</td><td>&hellip;</td><td>28.0</td><td>27.5</td><td>27.5</td><td>28.0</td><td>27.5</td><td>28.0</td><td>28.0</td><td>28.0</td><td>28.0</td><td>29.0</td><td>29.0</td><td>29.5</td><td>29.0</td><td>30.0</td><td>29.5</td><td>29.0</td><td>29.0</td><td>28.5</td><td>28.5</td><td>28.5</td><td>28.0</td><td>28.0</td><td>27.5</td><td>27.5</td><td>27.5</td><td>28.0</td><td>28.5</td><td>28.339286</td><td>27.5</td><td>30.0</td><td>0.682087</td><td>2.5</td><td>0.0</td><td>1</td><td>0</td><td>60</td><td>1.5</td></tr></tbody></table></div>"
      ],
      "text/plain": [
       "shape: (5, 172)\n",
       "┌─────────────────┬──────┬───────┬─────┬───┬───────┬───────┬─────────┬──────────┐\n",
       "│ samplingtimesec ┆ D140 ┆ D141  ┆ D19 ┆ … ┆ cycle ┆ label ┆ D24_int ┆ soc_diff │\n",
       "│ ---             ┆ ---  ┆ ---   ┆ --- ┆   ┆ ---   ┆ ---   ┆ ---     ┆ ---      │\n",
       "│ i64             ┆ f32  ┆ f32   ┆ i64 ┆   ┆ i32   ┆ i32   ┆ i32     ┆ f32      │\n",
       "╞═════════════════╪══════╪═══════╪═════╪═══╪═══════╪═══════╪═════════╪══════════╡\n",
       "│ 1630677745000   ┆ 0.0  ┆ 421.0 ┆ 4   ┆ … ┆ 1     ┆ 0     ┆ 60      ┆ 1.5      │\n",
       "│ 1630677746000   ┆ 0.0  ┆ 421.0 ┆ 4   ┆ … ┆ 1     ┆ 0     ┆ 60      ┆ 1.5      │\n",
       "│ 1630677747000   ┆ 0.0  ┆ 422.0 ┆ 4   ┆ … ┆ 1     ┆ 0     ┆ 60      ┆ 1.5      │\n",
       "│ 1630677748000   ┆ 0.0  ┆ 422.0 ┆ 4   ┆ … ┆ 1     ┆ 0     ┆ 60      ┆ 1.5      │\n",
       "│ 1630677749000   ┆ 0.0  ┆ 422.0 ┆ 4   ┆ … ┆ 1     ┆ 0     ┆ 60      ┆ 1.5      │\n",
       "└─────────────────┴──────┴───────┴─────┴───┴───────┴───────┴─────────┴──────────┘"
      ]
     },
     "execution_count": 46,
     "metadata": {},
     "output_type": "execute_result"
    }
   ],
   "source": [
    "df_charge.head()"
   ]
  },
  {
   "cell_type": "code",
   "execution_count": 9,
   "id": "d336c4ca-3b22-4d18-b3cb-752919772e57",
   "metadata": {
    "tags": []
   },
   "outputs": [],
   "source": [
    "final_cols=[f\"D135_{i}\" for i in range(1,113)]+[f\"D136_{i}\" for i in range(1,29)]"
   ]
  },
  {
   "cell_type": "code",
   "execution_count": 10,
   "id": "5564cec7-ded8-4db5-95f1-2f0f9138d243",
   "metadata": {
    "tags": []
   },
   "outputs": [],
   "source": [
    "final_cols = final_cols+[\"soc_diff\",'D22','D52','D24','D40','D41','D44','D72','D117','D133','cycle','D140','D141','label']"
   ]
  },
  {
   "cell_type": "code",
   "execution_count": null,
   "id": "472b9251-c465-4804-8518-ea1599aa6042",
   "metadata": {
    "tags": []
   },
   "outputs": [],
   "source": [
    "final_cols"
   ]
  },
  {
   "cell_type": "code",
   "execution_count": 11,
   "id": "83b3b92a-30fc-4dc4-850d-1a3f1e19e749",
   "metadata": {
    "tags": []
   },
   "outputs": [],
   "source": [
    "df_charge = df_charge.select(final_cols)"
   ]
  },
  {
   "cell_type": "code",
   "execution_count": 25,
   "id": "3cf74519-bf99-4005-9feb-6d1b40a781b6",
   "metadata": {
    "tags": []
   },
   "outputs": [],
   "source": [
    "df_charge.write_parquet('data/sampling_data.parquet')"
   ]
  },
  {
   "cell_type": "code",
   "execution_count": 53,
   "id": "31f0c440-c3c2-4315-81a6-afaeb6ef6325",
   "metadata": {
    "tags": []
   },
   "outputs": [],
   "source": [
    "def process_data_sample(target_car_dict):\n",
    "    # for item in normal_car_no:\n",
    "    #     target_car_dict[item]=''\n",
    "    final_cols=[f\"D135_{i}\" for i in range(1,113)]+[f\"D136_{i}\" for i in range(1,29)]+[\"soc_diff\",'D22','D52','D24','D40','D41','D44','D72','D117','D133','cycle','D140','D141','label']\n",
    "    for car, target_dt in target_car_dict.items():\n",
    "        print(car)\n",
    "        df_charge = get_charge_data(car)\n",
    "        df_charge = df_charge.with_columns([pl.col(col_name).cast(pl.Int32) for col_name in ['D140','D141']])\n",
    "        df_charge = make_label(df_charge, target_dt)\n",
    "        df_charge = preprocess(df_charge)\n",
    "        df_charge = df_charge.select(final_cols)\n",
    "        df_charge.write_parquet(f\"processed_data/{car}_4_5.parquet\")\n",
    "        del df_charge\n",
    "        df_discharge = get_discharge_data(car)\n",
    "        df_discharge = df_discharge.with_columns([pl.col(col_name).cast(pl.Int32) for col_name in ['D140','D141']])\n",
    "        df_discharge = make_label(df_discharge, target_dt)\n",
    "        df_discharge = preprocess(df_discharge)\n",
    "        df_discharge = df_discharge.select(final_cols)\n",
    "        df_discharge.write_parquet(f\"processed_data/{car}_3.parquet\")\n",
    "    return"
   ]
  },
  {
   "cell_type": "code",
   "execution_count": 50,
   "id": "5b2d0f77-d04f-4622-bde5-28f5056517b4",
   "metadata": {
    "tags": []
   },
   "outputs": [
    {
     "data": {
      "text/plain": [
       "{'D3': '2022-07-28',\n",
       " 'D2': '2022-05-20',\n",
       " 'D4': '2022-07-25',\n",
       " 'D1': '2022-03-14',\n",
       " 'D13': '2022-08-03',\n",
       " 'D105': '',\n",
       " 'D280': '',\n",
       " 'D107': '',\n",
       " 'D119': '',\n",
       " 'D180': '',\n",
       " 'D131': '',\n",
       " 'D246': '',\n",
       " 'D162': '',\n",
       " 'D296': ''}"
      ]
     },
     "execution_count": 50,
     "metadata": {},
     "output_type": "execute_result"
    }
   ],
   "source": [
    "target_car_dict"
   ]
  },
  {
   "cell_type": "code",
   "execution_count": 29,
   "id": "9aa80228-5746-425d-b855-6d27dd6023fb",
   "metadata": {
    "tags": []
   },
   "outputs": [],
   "source": [
    "for item in ['D440','D441','D442','D443']:\n",
    "    del target_car_dict[item]"
   ]
  },
  {
   "cell_type": "code",
   "execution_count": 51,
   "id": "66b0da5d-4c81-4a2d-bb2d-f74216871b63",
   "metadata": {
    "tags": []
   },
   "outputs": [],
   "source": [
    "for item in ['D105','D107','D119','D131','D162']:\n",
    "    del target_car_dict[item]"
   ]
  },
  {
   "cell_type": "code",
   "execution_count": 39,
   "id": "bc357bed-780a-4ecc-a1b0-047d4452dfb4",
   "metadata": {
    "tags": []
   },
   "outputs": [],
   "source": [
    "normal_car_no = ['D105','D280','D107','D119','D180','D131','D246','D162','D296']"
   ]
  },
  {
   "cell_type": "code",
   "execution_count": 54,
   "id": "15987a89-6ab0-41a0-b045-594db2e6d5c2",
   "metadata": {
    "tags": []
   },
   "outputs": [
    {
     "name": "stdout",
     "output_type": "stream",
     "text": [
      "D3\n",
      "D2\n",
      "D4\n",
      "D1\n",
      "D13\n",
      "D280\n",
      "D180\n",
      "D246\n",
      "D296\n"
     ]
    }
   ],
   "source": [
    "process_data_sample(target_car_dict)"
   ]
  },
  {
   "cell_type": "code",
   "execution_count": 123,
   "id": "7f338788-6a54-437e-aa46-83e6e1dc78f4",
   "metadata": {},
   "outputs": [],
   "source": [
    "df_discharge = get_discharge_data('D1')"
   ]
  },
  {
   "cell_type": "code",
   "execution_count": 124,
   "id": "2fd3795c-72ce-4a0c-a47a-07c4284d2661",
   "metadata": {
    "tags": []
   },
   "outputs": [],
   "source": [
    "def make_label(df_charge,target_dt=''):\n",
    "    if target_dt != '':\n",
    "        df_tmp = df_charge.groupby(\"cycle\").agg(D24_range=(pl.col('D24').max()-pl.col('D24').min()),\n",
    "                              startTime=pl.col('samplingtimesec').min(),\n",
    "                              endTime=pl.col('samplingtimesec').max()).sort('D24_range',descending=True)\n",
    "        target_dt = time.strptime(target_dt, \"%Y-%m-%d\")\n",
    "        target_dt = time.mktime(target_dt)*1000\n",
    "        low_cycle = df_tmp.filter((target_dt - pl.col('endTime'))<=0)['cycle'].min()-10\n",
    "        up_cycle = df_tmp.filter((target_dt - pl.col('endTime'))<=0)['cycle'].max()+5\n",
    "        df_charge=df_charge.with_columns(pl.col(\"cycle\").apply(lambda x: 1 if x>=low_cycle and x<= up_cycle else 0).alias(\"label\"))\n",
    "    else:\n",
    "        df_charge=df_charge.select(pl.lit(0).alias('label'),pl.all())\n",
    "    return df_charge"
   ]
  },
  {
   "cell_type": "code",
   "execution_count": 125,
   "id": "8d279459-bea7-45b0-b28f-c17a45d253a0",
   "metadata": {
    "tags": []
   },
   "outputs": [],
   "source": [
    "df_discharge = make_label(df_discharge, '2022-03-14')"
   ]
  },
  {
   "cell_type": "code",
   "execution_count": 132,
   "id": "bf30a1f5-040b-4a81-8986-885ff11bad2f",
   "metadata": {
    "tags": []
   },
   "outputs": [],
   "source": [
    "df_discharge = preprocess(df_discharge)\n",
    "df_discharge = df_discharge.with_columns([pl.col(col_name).cast(pl.Int32) for col_name in ['D140','D141']])"
   ]
  },
  {
   "cell_type": "code",
   "execution_count": 136,
   "id": "4a894f3b-042f-4f32-b4f4-93af7b103895",
   "metadata": {
    "tags": []
   },
   "outputs": [],
   "source": [
    "avg_cols = ['D141','D22','D24_int','D44','D40','D41','D52','D117','D133','D334','D356','D290','D135_diff','D136_diff','soc_diff']+[f\"D135_{i}\" for i in range(1,113)]+[f\"D136_{i}\" for i in range(1,29)]\n",
    "sum_cols=['D27']\n",
    "max_cols=['D135_diff','D135_std','D136_diff','D136_std','soc_diff']\n",
    "final_cols=avg_cols+sum_cols+[f\"{item}_max\" for item in max_cols]+[f\"D135_{i}_dv\" for i in range(1,113)]+['cycle']"
   ]
  },
  {
   "cell_type": "code",
   "execution_count": 153,
   "id": "f947ed09-c256-4f9d-ab24-93b62b2e3183",
   "metadata": {
    "tags": []
   },
   "outputs": [],
   "source": [
    "res_data = df_discharge.groupby(['cycle','D24_int']).apply(process_data)"
   ]
  },
  {
   "cell_type": "code",
   "execution_count": 142,
   "id": "8ef701cc-dbed-478b-bced-bc8f6edf1f8a",
   "metadata": {
    "tags": []
   },
   "outputs": [
    {
     "data": {
      "text/plain": [
       "(60, 274)"
      ]
     },
     "execution_count": 142,
     "metadata": {},
     "output_type": "execute_result"
    }
   ],
   "source": [
    "res_data.filter((pl.col('cycle')==1))"
   ]
  },
  {
   "cell_type": "code",
   "execution_count": null,
   "id": "ce20b30a-e3fd-419e-8ad6-6198b9718a6b",
   "metadata": {
    "tags": []
   },
   "outputs": [],
   "source": [
    "def check_data(df):\n",
    "    print(f\"cycle: {df['cycle'][0]}\")\n",
    "    print(f\"D24_int: {df['D24_int'][0]}\")\n",
    "    return df\n",
    "df_charge.groupby(['cycle','D24_int']).apply(check_data)"
   ]
  },
  {
   "cell_type": "code",
   "execution_count": 75,
   "id": "5a4a6fbf-c91c-4e6b-aa70-5fa75b2d30fc",
   "metadata": {
    "tags": []
   },
   "outputs": [
    {
     "data": {
      "text/html": [
       "<div><style>\n",
       ".dataframe > thead > tr > th,\n",
       ".dataframe > tbody > tr > td {\n",
       "  text-align: right;\n",
       "}\n",
       "</style>\n",
       "<small>shape: (1, 284)</small><table border=\"1\" class=\"dataframe\"><thead><tr><th>samplingtimesec</th><th>D140</th><th>D141</th><th>D19</th><th>D22</th><th>D24</th><th>D40</th><th>D41</th><th>D44</th><th>D27</th><th>D72</th><th>D52</th><th>D117</th><th>D133</th><th>D334</th><th>D356</th><th>D290</th><th>D135_1</th><th>D135_2</th><th>D135_3</th><th>D135_4</th><th>D135_5</th><th>D135_6</th><th>D135_7</th><th>D135_8</th><th>D135_9</th><th>D135_10</th><th>D135_11</th><th>D135_12</th><th>D135_13</th><th>D135_14</th><th>D135_15</th><th>D135_16</th><th>D135_17</th><th>D135_18</th><th>D135_19</th><th>D135_20</th><th>&hellip;</th><th>D135_76_dv</th><th>D135_77_dv</th><th>D135_78_dv</th><th>D135_79_dv</th><th>D135_80_dv</th><th>D135_81_dv</th><th>D135_82_dv</th><th>D135_83_dv</th><th>D135_84_dv</th><th>D135_85_dv</th><th>D135_86_dv</th><th>D135_87_dv</th><th>D135_88_dv</th><th>D135_89_dv</th><th>D135_90_dv</th><th>D135_91_dv</th><th>D135_92_dv</th><th>D135_93_dv</th><th>D135_94_dv</th><th>D135_95_dv</th><th>D135_96_dv</th><th>D135_97_dv</th><th>D135_98_dv</th><th>D135_99_dv</th><th>D135_100_dv</th><th>D135_101_dv</th><th>D135_102_dv</th><th>D135_103_dv</th><th>D135_104_dv</th><th>D135_105_dv</th><th>D135_106_dv</th><th>D135_107_dv</th><th>D135_108_dv</th><th>D135_109_dv</th><th>D135_110_dv</th><th>D135_111_dv</th><th>D135_112_dv</th></tr><tr><td>i64</td><td>str</td><td>str</td><td>i64</td><td>f32</td><td>f64</td><td>f64</td><td>f64</td><td>i64</td><td>f32</td><td>i64</td><td>f32</td><td>f64</td><td>f64</td><td>f32</td><td>f32</td><td>f32</td><td>f32</td><td>f32</td><td>f32</td><td>f32</td><td>f32</td><td>f32</td><td>f32</td><td>f32</td><td>f32</td><td>f32</td><td>f32</td><td>f32</td><td>f32</td><td>f32</td><td>f32</td><td>f32</td><td>f32</td><td>f32</td><td>f32</td><td>f32</td><td>&hellip;</td><td>f32</td><td>f32</td><td>f32</td><td>f32</td><td>f32</td><td>f32</td><td>f32</td><td>f32</td><td>f32</td><td>f32</td><td>f32</td><td>f32</td><td>f32</td><td>f32</td><td>f32</td><td>f32</td><td>f32</td><td>f32</td><td>f32</td><td>f32</td><td>f32</td><td>f32</td><td>f32</td><td>f32</td><td>f32</td><td>f32</td><td>f32</td><td>f32</td><td>f32</td><td>f32</td><td>f32</td><td>f32</td><td>f32</td><td>f32</td><td>f32</td><td>f32</td><td>f32</td></tr></thead><tbody><tr><td>1634144499000</td><td>&quot;0&quot;</td><td>&quot;426&quot;</td><td>5</td><td>-22.5</td><td>55.0</td><td>55.5</td><td>54.0</td><td>0</td><td>0.0</td><td>0</td><td>14.4</td><td>19.5</td><td>5715.0</td><td>99.400002</td><td>20.0</td><td>429.0</td><td>3825.0</td><td>3828.0</td><td>3822.0</td><td>3821.0</td><td>3819.0</td><td>3819.0</td><td>3823.0</td><td>3821.0</td><td>3821.0</td><td>3823.0</td><td>3820.0</td><td>3818.0</td><td>3820.0</td><td>3819.0</td><td>3820.0</td><td>3821.0</td><td>3823.0</td><td>3820.0</td><td>3822.0</td><td>3819.0</td><td>&hellip;</td><td>14.0</td><td>14.0</td><td>14.0</td><td>13.0</td><td>14.0</td><td>14.0</td><td>13.0</td><td>13.0</td><td>14.0</td><td>13.0</td><td>13.0</td><td>14.0</td><td>14.0</td><td>14.0</td><td>13.0</td><td>14.0</td><td>14.0</td><td>14.0</td><td>14.0</td><td>14.0</td><td>14.0</td><td>14.0</td><td>14.0</td><td>14.0</td><td>14.0</td><td>14.0</td><td>13.0</td><td>13.0</td><td>14.0</td><td>13.0</td><td>13.0</td><td>14.0</td><td>14.0</td><td>14.0</td><td>14.0</td><td>13.0</td><td>14.0</td></tr></tbody></table></div>"
      ],
      "text/plain": [
       "shape: (1, 284)\n",
       "┌─────────────────┬──────┬──────┬─────┬───┬─────────────┬─────────────┬─────────────┬─────────────┐\n",
       "│ samplingtimesec ┆ D140 ┆ D141 ┆ D19 ┆ … ┆ D135_109_dv ┆ D135_110_dv ┆ D135_111_dv ┆ D135_112_dv │\n",
       "│ ---             ┆ ---  ┆ ---  ┆ --- ┆   ┆ ---         ┆ ---         ┆ ---         ┆ ---         │\n",
       "│ i64             ┆ str  ┆ str  ┆ i64 ┆   ┆ f32         ┆ f32         ┆ f32         ┆ f32         │\n",
       "╞═════════════════╪══════╪══════╪═════╪═══╪═════════════╪═════════════╪═════════════╪═════════════╡\n",
       "│ 1634144499000   ┆ 0    ┆ 426  ┆ 5   ┆ … ┆ 14.0        ┆ 14.0        ┆ 13.0        ┆ 14.0        │\n",
       "└─────────────────┴──────┴──────┴─────┴───┴─────────────┴─────────────┴─────────────┴─────────────┘"
      ]
     },
     "execution_count": 75,
     "metadata": {},
     "output_type": "execute_result"
    }
   ],
   "source": [
    "temp = temp.with_columns([(pl.col(f'D135_{i}').last()-pl.col(f'D135_{i}').first()).alias(f\"D135_{i}_dv\") for i in range(1,113)])[0]"
   ]
  },
  {
   "cell_type": "code",
   "execution_count": null,
   "id": "56e0aab4-6207-4d45-ac6e-8daa23733c61",
   "metadata": {
    "tags": []
   },
   "outputs": [],
   "source": [
    "df_charge.filter(pl.col('D72')==10400).head(20)"
   ]
  },
  {
   "cell_type": "code",
   "execution_count": null,
   "id": "4c7690ef-82be-4b61-92d6-3cc118083ba9",
   "metadata": {
    "tags": []
   },
   "outputs": [],
   "source": [
    "df_charge.columns"
   ]
  },
  {
   "cell_type": "code",
   "execution_count": 100,
   "id": "644f66a8-e9a3-4f23-9fd7-fd985470065e",
   "metadata": {
    "tags": []
   },
   "outputs": [],
   "source": []
  },
  {
   "cell_type": "markdown",
   "id": "5cd44001-0255-40de-845a-db9bfa62393f",
   "metadata": {},
   "source": [
    "### 需要avg的字段：\n",
    "['D141','D22','D24','D44','D40','D41','D52','D117','D133','D334','D356','D290','D135_diff','D136_diff','soc_diff']\n",
    "+[f\"D135_{i} for i in range(1,113)]+[f\"D136_{i} for i in range(1,29)]\n",
    "### 需要sum的字段\n",
    "['D27']\n",
    "### 需要max的字段\n",
    "['D135_diff','D135_std','D136_diff','D136_std','soc_diff']"
   ]
  },
  {
   "cell_type": "code",
   "execution_count": 103,
   "id": "9cfdbaa5-6b6d-403b-b16c-c922549e03f0",
   "metadata": {
    "tags": []
   },
   "outputs": [
    {
     "data": {
      "text/html": [
       "<div><style>\n",
       ".dataframe > thead > tr > th,\n",
       ".dataframe > tbody > tr > td {\n",
       "  text-align: right;\n",
       "}\n",
       "</style>\n",
       "<small>shape: (1, 273)</small><table border=\"1\" class=\"dataframe\"><thead><tr><th>D141</th><th>D22</th><th>D24</th><th>D44</th><th>D40</th><th>D41</th><th>D52</th><th>D117</th><th>D133</th><th>D334</th><th>D356</th><th>D290</th><th>D135_diff</th><th>D136_diff</th><th>soc_diff</th><th>D135_1</th><th>D135_2</th><th>D135_3</th><th>D135_4</th><th>D135_5</th><th>D135_6</th><th>D135_7</th><th>D135_8</th><th>D135_9</th><th>D135_10</th><th>D135_11</th><th>D135_12</th><th>D135_13</th><th>D135_14</th><th>D135_15</th><th>D135_16</th><th>D135_17</th><th>D135_18</th><th>D135_19</th><th>D135_20</th><th>D135_21</th><th>D135_22</th><th>&hellip;</th><th>D135_76_dv</th><th>D135_77_dv</th><th>D135_78_dv</th><th>D135_79_dv</th><th>D135_80_dv</th><th>D135_81_dv</th><th>D135_82_dv</th><th>D135_83_dv</th><th>D135_84_dv</th><th>D135_85_dv</th><th>D135_86_dv</th><th>D135_87_dv</th><th>D135_88_dv</th><th>D135_89_dv</th><th>D135_90_dv</th><th>D135_91_dv</th><th>D135_92_dv</th><th>D135_93_dv</th><th>D135_94_dv</th><th>D135_95_dv</th><th>D135_96_dv</th><th>D135_97_dv</th><th>D135_98_dv</th><th>D135_99_dv</th><th>D135_100_dv</th><th>D135_101_dv</th><th>D135_102_dv</th><th>D135_103_dv</th><th>D135_104_dv</th><th>D135_105_dv</th><th>D135_106_dv</th><th>D135_107_dv</th><th>D135_108_dv</th><th>D135_109_dv</th><th>D135_110_dv</th><th>D135_111_dv</th><th>D135_112_dv</th></tr><tr><td>f64</td><td>f32</td><td>f64</td><td>f64</td><td>f64</td><td>f64</td><td>f32</td><td>f64</td><td>f64</td><td>f32</td><td>f32</td><td>f32</td><td>f64</td><td>f64</td><td>f32</td><td>f32</td><td>f32</td><td>f32</td><td>f32</td><td>f32</td><td>f32</td><td>f32</td><td>f32</td><td>f32</td><td>f32</td><td>f32</td><td>f32</td><td>f32</td><td>f32</td><td>f32</td><td>f32</td><td>f32</td><td>f32</td><td>f32</td><td>f32</td><td>f32</td><td>f32</td><td>&hellip;</td><td>f32</td><td>f32</td><td>f32</td><td>f32</td><td>f32</td><td>f32</td><td>f32</td><td>f32</td><td>f32</td><td>f32</td><td>f32</td><td>f32</td><td>f32</td><td>f32</td><td>f32</td><td>f32</td><td>f32</td><td>f32</td><td>f32</td><td>f32</td><td>f32</td><td>f32</td><td>f32</td><td>f32</td><td>f32</td><td>f32</td><td>f32</td><td>f32</td><td>f32</td><td>f32</td><td>f32</td><td>f32</td><td>f32</td><td>f32</td><td>f32</td><td>f32</td><td>f32</td></tr></thead><tbody><tr><td>426.369146</td><td>-22.423691</td><td>55.450689</td><td>0.0</td><td>55.749311</td><td>54.632231</td><td>14.39752</td><td>19.5</td><td>5715.0</td><td>99.406334</td><td>19.980717</td><td>430.187317</td><td>10.523416</td><td>2.0</td><td>1.11708</td><td>3831.675049</td><td>3834.148682</td><td>3828.562012</td><td>3827.713379</td><td>3825.917236</td><td>3825.50415</td><td>3829.801758</td><td>3827.886963</td><td>3828.451904</td><td>3829.694336</td><td>3827.471191</td><td>3825.58667</td><td>3827.044189</td><td>3826.245117</td><td>3826.997314</td><td>3827.81543</td><td>3830.154297</td><td>3827.107422</td><td>3829.341553</td><td>3826.459961</td><td>3828.482178</td><td>3828.013672</td><td>&hellip;</td><td>14.0</td><td>14.0</td><td>14.0</td><td>13.0</td><td>14.0</td><td>14.0</td><td>13.0</td><td>13.0</td><td>14.0</td><td>13.0</td><td>13.0</td><td>14.0</td><td>14.0</td><td>14.0</td><td>13.0</td><td>14.0</td><td>14.0</td><td>14.0</td><td>14.0</td><td>14.0</td><td>14.0</td><td>14.0</td><td>14.0</td><td>14.0</td><td>14.0</td><td>14.0</td><td>13.0</td><td>13.0</td><td>14.0</td><td>13.0</td><td>13.0</td><td>14.0</td><td>14.0</td><td>14.0</td><td>14.0</td><td>13.0</td><td>14.0</td></tr></tbody></table></div>"
      ],
      "text/plain": [
       "shape: (1, 273)\n",
       "┌────────────┬────────────┬───────────┬─────┬───┬────────────┬────────────┬────────────┬───────────┐\n",
       "│ D141       ┆ D22        ┆ D24       ┆ D44 ┆ … ┆ D135_109_d ┆ D135_110_d ┆ D135_111_d ┆ D135_112_ │\n",
       "│ ---        ┆ ---        ┆ ---       ┆ --- ┆   ┆ v          ┆ v          ┆ v          ┆ dv        │\n",
       "│ f64        ┆ f32        ┆ f64       ┆ f64 ┆   ┆ ---        ┆ ---        ┆ ---        ┆ ---       │\n",
       "│            ┆            ┆           ┆     ┆   ┆ f32        ┆ f32        ┆ f32        ┆ f32       │\n",
       "╞════════════╪════════════╪═══════════╪═════╪═══╪════════════╪════════════╪════════════╪═══════════╡\n",
       "│ 426.369146 ┆ -22.423691 ┆ 55.450689 ┆ 0.0 ┆ … ┆ 14.0       ┆ 14.0       ┆ 13.0       ┆ 14.0      │\n",
       "└────────────┴────────────┴───────────┴─────┴───┴────────────┴────────────┴────────────┴───────────┘"
      ]
     },
     "execution_count": 103,
     "metadata": {},
     "output_type": "execute_result"
    }
   ],
   "source": [
    "temp.with_columns([pl.col(item).mean() for item in avg_cols]+\n",
    "                 [pl.col(item).max().alias(f\"{item}_max\") for item in max_cols]+\n",
    "                 [(pl.col(f'D135_{i}').last()-pl.col(f'D135_{i}').first()).alias(f\"D135_{i}_dv\") for i in range(1,113)]+\n",
    "                 [pl.col('D27').sum()]).select(final_cols)[0]"
   ]
  },
  {
   "cell_type": "code",
   "execution_count": 189,
   "id": "17f37859-903e-47d4-8dcd-ff3b8d308b4d",
   "metadata": {
    "tags": []
   },
   "outputs": [],
   "source": [
    "def process_data_sample(target_car_dict):\n",
    "    # for item in normal_car_no:\n",
    "    #     target_car_dict[item]=''\n",
    "    avg_cols = ['D141','D22','D24_int','D44','D40','D41','D52','D117','D133','D334','D356','D290','D135_diff','D136_diff','soc_diff']+[f\"D135_{i}\" for i in range(1,113)]+[f\"D136_{i}\" for i in range(1,29)]\n",
    "    sum_cols=['D27']\n",
    "    max_cols=['D135_diff','D135_std','D136_diff','D136_std','soc_diff']\n",
    "    final_cols=avg_cols+sum_cols+[f\"{item}_max\" for item in max_cols]+[f\"D135_{i}_dv\" for i in range(1,113)]+['label','cycle','samplingtimesec']\n",
    "    def process_data(df):\n",
    "        nonlocal final_cols\n",
    "        temp = df.with_columns([pl.col(item).mean() for item in avg_cols]+\n",
    "                     [pl.col(item).max().alias(f\"{item}_max\") for item in max_cols]+\n",
    "                     [(pl.col(f'D135_{i}').last()-pl.col(f'D135_{i}').first()).alias(f\"D135_{i}_dv\") for i in range(1,113)]+\n",
    "                     [pl.col('samplingtimesec').min()]+\n",
    "                     [pl.col('D27').sum()]).select(final_cols)[0]\n",
    "        return temp\n",
    "    for car, target_dt in target_car_dict.items():\n",
    "        print(car)\n",
    "        df_charge = get_charge_data(car)\n",
    "        df_charge = df_charge.with_columns([pl.col(col_name).cast(pl.Int32) for col_name in ['D140','D141']])\n",
    "        df_charge = make_label(df_charge, target_dt)\n",
    "        df_charge = preprocess(df_charge)\n",
    "        df_charge = df_charge.groupby(['cycle','D24_int']).apply(process_data)\n",
    "        df_charge = df_charge.with_columns([pl.col(item).fill_null(0) for item in ['D334','D356','D290']])\n",
    "        df_charge = df_charge.filter(pl.col('cycle').is_null()==False)\n",
    "        df_charge = df_charge.sort(['cycle','D24_int'], descending=False)\n",
    "        if target_dt == '':\n",
    "            df_charge.write_parquet(f\"processed_data/normal_sample/charge_data/{car}_4_5.parquet\")\n",
    "        else:\n",
    "            df_charge.write_parquet(f\"processed_data/neg_sample/charge_data/{car}_4_5.parquet\")\n",
    "        del df_charge\n",
    "        df_discharge = get_discharge_data(car)\n",
    "        df_discharge = df_discharge.with_columns([pl.col(col_name).cast(pl.Int32) for col_name in ['D140','D141']])\n",
    "        df_discharge = make_label(df_discharge, target_dt)\n",
    "        df_discharge = preprocess(df_discharge)\n",
    "        df_discharge = df_discharge.groupby(['cycle','D24_int']).apply(process_data)\n",
    "        df_discharge = df_discharge.with_columns([pl.col(item).fill_null(0) for item in ['D334','D356','D290']])\n",
    "        df_discharge = df_discharge.filter(pl.col('cycle').is_null()==False)\n",
    "        df_discharge = df_discharge.sort(['cycle','D24_int'], descending=False)\n",
    "        if target_dt=='':\n",
    "            df_discharge.write_parquet(f\"processed_data/normal_sample/discharge_data/{car}_3.parquet\")\n",
    "        else:\n",
    "            df_discharge.write_parquet(f\"processed_data/neg_sample/discharge_data/{car}_3.parquet\")\n",
    "    return"
   ]
  },
  {
   "cell_type": "code",
   "execution_count": 191,
   "id": "a523e070-9c70-4f29-b690-01e73f88c672",
   "metadata": {
    "tags": []
   },
   "outputs": [],
   "source": [
    "target_car_dict = {'D119':''}"
   ]
  },
  {
   "cell_type": "code",
   "execution_count": 187,
   "id": "ffc6e034-d121-4fb7-806e-861fd252b11e",
   "metadata": {
    "tags": []
   },
   "outputs": [],
   "source": [
    "target_car_dict = {'D3':'2022-07-28',\n",
    "                   'D2':'2022-05-20',\n",
    "                   'D4':'2022-07-25',\n",
    "                      'D1':'2022-03-14',\n",
    "                      'D13':'2022-08-03',\n",
    "                      'D440':'2022-09-06',\n",
    "                      'D441':'2022-09-13',\n",
    "                      'D442':'2022-11-21',\n",
    "                      'D443':'2022-11-17',\n",
    "                     'D105': '',\n",
    "                     'D280': '',\n",
    "                     'D107': '',\n",
    "                     'D180': '',\n",
    "                     'D131': '',\n",
    "                     'D246': '',\n",
    "                     'D162': '',\n",
    "                     'D296': ''}"
   ]
  },
  {
   "cell_type": "code",
   "execution_count": 190,
   "id": "1f8ded33-72bb-4a6f-ad5d-721154a0c3fb",
   "metadata": {
    "tags": []
   },
   "outputs": [
    {
     "name": "stdout",
     "output_type": "stream",
     "text": [
      "D3\n",
      "D2\n",
      "D4\n",
      "D1\n",
      "D13\n",
      "D440\n",
      "D441\n",
      "D442\n",
      "D443\n",
      "D105\n",
      "D280\n",
      "D107\n",
      "D180\n",
      "D131\n",
      "D246\n",
      "D162\n",
      "D296\n"
     ]
    }
   ],
   "source": [
    "process_data_sample(target_car_dict)"
   ]
  },
  {
   "cell_type": "code",
   "execution_count": 152,
   "id": "0bcfd7c4-8997-4e36-828f-a39092d46576",
   "metadata": {
    "tags": []
   },
   "outputs": [
    {
     "name": "stdout",
     "output_type": "stream",
     "text": [
      "(4783, 274)\n",
      "(2474, 274)\n"
     ]
    }
   ],
   "source": [
    "print(res_data.shape)\n",
    "res_data=res_data.drop_nulls()\n",
    "res_data = res_data.sort(['cycle','D24_int'], descending=False)\n",
    "print(res_data.shape)"
   ]
  },
  {
   "cell_type": "code",
   "execution_count": 155,
   "id": "0d22df43-8ea8-4b03-bc01-de584a4b90d2",
   "metadata": {
    "tags": []
   },
   "outputs": [
    {
     "data": {
      "text/html": [
       "<div><style>\n",
       ".dataframe > thead > tr > th,\n",
       ".dataframe > tbody > tr > td {\n",
       "  text-align: right;\n",
       "}\n",
       "</style>\n",
       "<small>shape: (1, 274)</small><table border=\"1\" class=\"dataframe\"><thead><tr><th>D141</th><th>D22</th><th>D24_int</th><th>D44</th><th>D40</th><th>D41</th><th>D52</th><th>D117</th><th>D133</th><th>D334</th><th>D356</th><th>D290</th><th>D135_diff</th><th>D136_diff</th><th>soc_diff</th><th>D135_1</th><th>D135_2</th><th>D135_3</th><th>D135_4</th><th>D135_5</th><th>D135_6</th><th>D135_7</th><th>D135_8</th><th>D135_9</th><th>D135_10</th><th>D135_11</th><th>D135_12</th><th>D135_13</th><th>D135_14</th><th>D135_15</th><th>D135_16</th><th>D135_17</th><th>D135_18</th><th>D135_19</th><th>D135_20</th><th>D135_21</th><th>D135_22</th><th>&hellip;</th><th>D135_77_dv</th><th>D135_78_dv</th><th>D135_79_dv</th><th>D135_80_dv</th><th>D135_81_dv</th><th>D135_82_dv</th><th>D135_83_dv</th><th>D135_84_dv</th><th>D135_85_dv</th><th>D135_86_dv</th><th>D135_87_dv</th><th>D135_88_dv</th><th>D135_89_dv</th><th>D135_90_dv</th><th>D135_91_dv</th><th>D135_92_dv</th><th>D135_93_dv</th><th>D135_94_dv</th><th>D135_95_dv</th><th>D135_96_dv</th><th>D135_97_dv</th><th>D135_98_dv</th><th>D135_99_dv</th><th>D135_100_dv</th><th>D135_101_dv</th><th>D135_102_dv</th><th>D135_103_dv</th><th>D135_104_dv</th><th>D135_105_dv</th><th>D135_106_dv</th><th>D135_107_dv</th><th>D135_108_dv</th><th>D135_109_dv</th><th>D135_110_dv</th><th>D135_111_dv</th><th>D135_112_dv</th><th>cycle</th></tr><tr><td>u32</td><td>u32</td><td>u32</td><td>u32</td><td>u32</td><td>u32</td><td>u32</td><td>u32</td><td>u32</td><td>u32</td><td>u32</td><td>u32</td><td>u32</td><td>u32</td><td>u32</td><td>u32</td><td>u32</td><td>u32</td><td>u32</td><td>u32</td><td>u32</td><td>u32</td><td>u32</td><td>u32</td><td>u32</td><td>u32</td><td>u32</td><td>u32</td><td>u32</td><td>u32</td><td>u32</td><td>u32</td><td>u32</td><td>u32</td><td>u32</td><td>u32</td><td>u32</td><td>&hellip;</td><td>u32</td><td>u32</td><td>u32</td><td>u32</td><td>u32</td><td>u32</td><td>u32</td><td>u32</td><td>u32</td><td>u32</td><td>u32</td><td>u32</td><td>u32</td><td>u32</td><td>u32</td><td>u32</td><td>u32</td><td>u32</td><td>u32</td><td>u32</td><td>u32</td><td>u32</td><td>u32</td><td>u32</td><td>u32</td><td>u32</td><td>u32</td><td>u32</td><td>u32</td><td>u32</td><td>u32</td><td>u32</td><td>u32</td><td>u32</td><td>u32</td><td>u32</td><td>u32</td></tr></thead><tbody><tr><td>0</td><td>0</td><td>0</td><td>0</td><td>0</td><td>0</td><td>0</td><td>0</td><td>0</td><td>2308</td><td>2308</td><td>2308</td><td>0</td><td>0</td><td>0</td><td>0</td><td>0</td><td>0</td><td>0</td><td>0</td><td>0</td><td>0</td><td>0</td><td>0</td><td>0</td><td>0</td><td>0</td><td>0</td><td>0</td><td>0</td><td>0</td><td>0</td><td>0</td><td>0</td><td>0</td><td>0</td><td>0</td><td>&hellip;</td><td>0</td><td>0</td><td>0</td><td>0</td><td>0</td><td>0</td><td>0</td><td>0</td><td>0</td><td>0</td><td>0</td><td>0</td><td>0</td><td>0</td><td>0</td><td>0</td><td>0</td><td>0</td><td>0</td><td>0</td><td>0</td><td>0</td><td>0</td><td>0</td><td>0</td><td>0</td><td>0</td><td>0</td><td>0</td><td>0</td><td>0</td><td>0</td><td>0</td><td>0</td><td>0</td><td>0</td><td>1</td></tr></tbody></table></div>"
      ],
      "text/plain": [
       "shape: (1, 274)\n",
       "┌──────┬─────┬─────────┬─────┬───┬─────────────┬─────────────┬─────────────┬───────┐\n",
       "│ D141 ┆ D22 ┆ D24_int ┆ D44 ┆ … ┆ D135_110_dv ┆ D135_111_dv ┆ D135_112_dv ┆ cycle │\n",
       "│ ---  ┆ --- ┆ ---     ┆ --- ┆   ┆ ---         ┆ ---         ┆ ---         ┆ ---   │\n",
       "│ u32  ┆ u32 ┆ u32     ┆ u32 ┆   ┆ u32         ┆ u32         ┆ u32         ┆ u32   │\n",
       "╞══════╪═════╪═════════╪═════╪═══╪═════════════╪═════════════╪═════════════╪═══════╡\n",
       "│ 0    ┆ 0   ┆ 0       ┆ 0   ┆ … ┆ 0           ┆ 0           ┆ 0           ┆ 1     │\n",
       "└──────┴─────┴─────────┴─────┴───┴─────────────┴─────────────┴─────────────┴───────┘"
      ]
     },
     "execution_count": 155,
     "metadata": {},
     "output_type": "execute_result"
    }
   ],
   "source": [
    "res_data.select(pl.all().is_null().sum())"
   ]
  },
  {
   "cell_type": "code",
   "execution_count": 160,
   "id": "655b183c-3a9c-452b-b4ca-d8d27309e156",
   "metadata": {
    "tags": []
   },
   "outputs": [],
   "source": [
    "res_data = res_data.with_columns([pl.col(item).fill_null(0) for item in ['D334','D356','D290']])\n",
    "res_data = res_data.filter(pl.col('cycle').is_null()==False)\n",
    "res_data = res_data.sort(['cycle','D24_int'], descending=False)"
   ]
  },
  {
   "cell_type": "code",
   "execution_count": 161,
   "id": "0ba6687e-ecc2-4d2e-ba87-7343a07939fa",
   "metadata": {
    "tags": []
   },
   "outputs": [
    {
     "data": {
      "text/html": [
       "<div><style>\n",
       ".dataframe > thead > tr > th,\n",
       ".dataframe > tbody > tr > td {\n",
       "  text-align: right;\n",
       "}\n",
       "</style>\n",
       "<small>shape: (10, 274)</small><table border=\"1\" class=\"dataframe\"><thead><tr><th>D141</th><th>D22</th><th>D24_int</th><th>D44</th><th>D40</th><th>D41</th><th>D52</th><th>D117</th><th>D133</th><th>D334</th><th>D356</th><th>D290</th><th>D135_diff</th><th>D136_diff</th><th>soc_diff</th><th>D135_1</th><th>D135_2</th><th>D135_3</th><th>D135_4</th><th>D135_5</th><th>D135_6</th><th>D135_7</th><th>D135_8</th><th>D135_9</th><th>D135_10</th><th>D135_11</th><th>D135_12</th><th>D135_13</th><th>D135_14</th><th>D135_15</th><th>D135_16</th><th>D135_17</th><th>D135_18</th><th>D135_19</th><th>D135_20</th><th>D135_21</th><th>D135_22</th><th>&hellip;</th><th>D135_77_dv</th><th>D135_78_dv</th><th>D135_79_dv</th><th>D135_80_dv</th><th>D135_81_dv</th><th>D135_82_dv</th><th>D135_83_dv</th><th>D135_84_dv</th><th>D135_85_dv</th><th>D135_86_dv</th><th>D135_87_dv</th><th>D135_88_dv</th><th>D135_89_dv</th><th>D135_90_dv</th><th>D135_91_dv</th><th>D135_92_dv</th><th>D135_93_dv</th><th>D135_94_dv</th><th>D135_95_dv</th><th>D135_96_dv</th><th>D135_97_dv</th><th>D135_98_dv</th><th>D135_99_dv</th><th>D135_100_dv</th><th>D135_101_dv</th><th>D135_102_dv</th><th>D135_103_dv</th><th>D135_104_dv</th><th>D135_105_dv</th><th>D135_106_dv</th><th>D135_107_dv</th><th>D135_108_dv</th><th>D135_109_dv</th><th>D135_110_dv</th><th>D135_111_dv</th><th>D135_112_dv</th><th>cycle</th></tr><tr><td>f64</td><td>f32</td><td>f64</td><td>f64</td><td>f64</td><td>f64</td><td>f32</td><td>f64</td><td>f64</td><td>f32</td><td>f32</td><td>f32</td><td>f64</td><td>f64</td><td>f32</td><td>f32</td><td>f32</td><td>f32</td><td>f32</td><td>f32</td><td>f32</td><td>f32</td><td>f32</td><td>f32</td><td>f32</td><td>f32</td><td>f32</td><td>f32</td><td>f32</td><td>f32</td><td>f32</td><td>f32</td><td>f32</td><td>f32</td><td>f32</td><td>f32</td><td>f32</td><td>&hellip;</td><td>f32</td><td>f32</td><td>f32</td><td>f32</td><td>f32</td><td>f32</td><td>f32</td><td>f32</td><td>f32</td><td>f32</td><td>f32</td><td>f32</td><td>f32</td><td>f32</td><td>f32</td><td>f32</td><td>f32</td><td>f32</td><td>f32</td><td>f32</td><td>f32</td><td>f32</td><td>f32</td><td>f32</td><td>f32</td><td>f32</td><td>f32</td><td>f32</td><td>f32</td><td>f32</td><td>f32</td><td>f32</td><td>f32</td><td>f32</td><td>f32</td><td>f32</td><td>i32</td></tr></thead><tbody><tr><td>497.043478</td><td>20.706522</td><td>20.0</td><td>0.0</td><td>21.5</td><td>20.5</td><td>13.784782</td><td>31.521739</td><td>2647.0</td><td>98.383331</td><td>57.214287</td><td>398.666656</td><td>8.130435</td><td>1.0</td><td>1.0</td><td>3566.956543</td><td>3569.934814</td><td>3566.826172</td><td>3565.782715</td><td>3564.1521</td><td>3564.760986</td><td>3566.804443</td><td>3565.086914</td><td>3564.1521</td><td>3565.913086</td><td>3564.065186</td><td>3563.608643</td><td>3563.8479</td><td>3563.673828</td><td>3563.934814</td><td>3564.760986</td><td>3565.869629</td><td>3565.413086</td><td>3566.804443</td><td>3564.6521</td><td>3567.391357</td><td>3566.021729</td><td>&hellip;</td><td>46.0</td><td>46.0</td><td>45.0</td><td>45.0</td><td>44.0</td><td>47.0</td><td>45.0</td><td>45.0</td><td>46.0</td><td>46.0</td><td>46.0</td><td>46.0</td><td>45.0</td><td>46.0</td><td>45.0</td><td>46.0</td><td>45.0</td><td>46.0</td><td>45.0</td><td>45.0</td><td>45.0</td><td>47.0</td><td>44.0</td><td>46.0</td><td>46.0</td><td>46.0</td><td>46.0</td><td>46.0</td><td>45.0</td><td>46.0</td><td>45.0</td><td>46.0</td><td>45.0</td><td>46.0</td><td>45.0</td><td>45.0</td><td>1</td></tr><tr><td>499.933036</td><td>74.985718</td><td>21.0</td><td>0.0</td><td>21.883929</td><td>20.991071</td><td>13.799554</td><td>31.602679</td><td>2644.955357</td><td>98.373077</td><td>55.985577</td><td>397.394226</td><td>7.977679</td><td>1.033482</td><td>0.892857</td><td>3549.490967</td><td>3551.727783</td><td>3548.950928</td><td>3547.558105</td><td>3546.522217</td><td>3546.214355</td><td>3548.830322</td><td>3547.290283</td><td>3546.392822</td><td>3547.767822</td><td>3546.178467</td><td>3545.138428</td><td>3545.986572</td><td>3545.384033</td><td>3546.299072</td><td>3546.772217</td><td>3548.089355</td><td>3547.075928</td><td>3548.879395</td><td>3546.526855</td><td>3549.602783</td><td>3547.745605</td><td>&hellip;</td><td>70.0</td><td>69.0</td><td>68.0</td><td>70.0</td><td>68.0</td><td>71.0</td><td>71.0</td><td>69.0</td><td>70.0</td><td>70.0</td><td>70.0</td><td>70.0</td><td>69.0</td><td>70.0</td><td>70.0</td><td>71.0</td><td>69.0</td><td>71.0</td><td>69.0</td><td>71.0</td><td>68.0</td><td>71.0</td><td>70.0</td><td>70.0</td><td>71.0</td><td>69.0</td><td>70.0</td><td>71.0</td><td>69.0</td><td>71.0</td><td>69.0</td><td>70.0</td><td>70.0</td><td>69.0</td><td>68.0</td><td>69.0</td><td>1</td></tr><tr><td>487.54717</td><td>173.903778</td><td>22.0</td><td>0.0</td><td>22.962264</td><td>22.0</td><td>13.8</td><td>32.169811</td><td>2640.886792</td><td>98.350006</td><td>55.240002</td><td>392.600006</td><td>8.396226</td><td>1.066038</td><td>0.962264</td><td>3515.0</td><td>3516.094238</td><td>3514.0</td><td>3511.754639</td><td>3511.490479</td><td>3509.773682</td><td>3513.490479</td><td>3511.905762</td><td>3511.169922</td><td>3512.094238</td><td>3510.6604</td><td>3509.075439</td><td>3510.849121</td><td>3509.452881</td><td>3511.584961</td><td>3511.60376</td><td>3513.320801</td><td>3511.037842</td><td>3513.697998</td><td>3511.056641</td><td>3514.3396</td><td>3511.415039</td><td>&hellip;</td><td>73.0</td><td>79.0</td><td>76.0</td><td>77.0</td><td>77.0</td><td>78.0</td><td>78.0</td><td>75.0</td><td>72.0</td><td>79.0</td><td>76.0</td><td>77.0</td><td>77.0</td><td>77.0</td><td>77.0</td><td>77.0</td><td>72.0</td><td>80.0</td><td>76.0</td><td>77.0</td><td>77.0</td><td>77.0</td><td>76.0</td><td>76.0</td><td>74.0</td><td>78.0</td><td>76.0</td><td>77.0</td><td>78.0</td><td>77.0</td><td>75.0</td><td>77.0</td><td>73.0</td><td>78.0</td><td>75.0</td><td>75.0</td><td>1</td></tr><tr><td>477.333333</td><td>96.369301</td><td>23.0</td><td>0.0</td><td>23.995614</td><td>23.030702</td><td>13.8</td><td>31.802632</td><td>2639.385965</td><td>98.402779</td><td>60.305557</td><td>397.574066</td><td>7.982456</td><td>1.359649</td><td>0.964912</td><td>3552.473633</td><td>3554.122803</td><td>3551.815674</td><td>3550.219238</td><td>3549.377197</td><td>3548.763184</td><td>3551.482422</td><td>3549.929932</td><td>3549.280762</td><td>3550.289551</td><td>3548.79834</td><td>3547.710449</td><td>3548.85083</td><td>3548.114014</td><td>3549.114014</td><td>3549.631592</td><td>3551.096436</td><td>3549.692871</td><td>3551.640381</td><td>3549.447266</td><td>3552.210449</td><td>3550.210449</td><td>&hellip;</td><td>-71.0</td><td>-75.0</td><td>-72.0</td><td>-75.0</td><td>-74.0</td><td>-75.0</td><td>-75.0</td><td>-72.0</td><td>-71.0</td><td>-75.0</td><td>-74.0</td><td>-75.0</td><td>-74.0</td><td>-74.0</td><td>-75.0</td><td>-73.0</td><td>-71.0</td><td>-76.0</td><td>-72.0</td><td>-76.0</td><td>-74.0</td><td>-75.0</td><td>-74.0</td><td>-72.0</td><td>-72.0</td><td>-75.0</td><td>-73.0</td><td>-75.0</td><td>-74.0</td><td>-73.0</td><td>-74.0</td><td>-73.0</td><td>-71.0</td><td>-74.0</td><td>-72.0</td><td>-73.0</td><td>1</td></tr><tr><td>465.792857</td><td>106.300713</td><td>24.0</td><td>0.0</td><td>24.839286</td><td>23.882143</td><td>13.799286</td><td>33.539286</td><td>2635.9</td><td>98.452988</td><td>59.126865</td><td>397.470154</td><td>7.357143</td><td>1.103571</td><td>0.957143</td><td>3553.314209</td><td>3554.592773</td><td>3552.535645</td><td>3550.978516</td><td>3550.192871</td><td>3549.457031</td><td>3552.264404</td><td>3550.714355</td><td>3550.171387</td><td>3551.100098</td><td>3549.642822</td><td>3548.485596</td><td>3549.649902</td><td>3548.907227</td><td>3550.221436</td><td>3550.514404</td><td>3552.014404</td><td>3550.485596</td><td>3552.392822</td><td>3550.378662</td><td>3552.828613</td><td>3550.935791</td><td>&hellip;</td><td>63.0</td><td>64.0</td><td>63.0</td><td>63.0</td><td>62.0</td><td>65.0</td><td>64.0</td><td>64.0</td><td>63.0</td><td>64.0</td><td>64.0</td><td>62.0</td><td>63.0</td><td>64.0</td><td>62.0</td><td>65.0</td><td>63.0</td><td>65.0</td><td>63.0</td><td>63.0</td><td>63.0</td><td>65.0</td><td>62.0</td><td>65.0</td><td>64.0</td><td>65.0</td><td>63.0</td><td>63.0</td><td>63.0</td><td>64.0</td><td>62.0</td><td>65.0</td><td>63.0</td><td>64.0</td><td>61.0</td><td>61.0</td><td>1</td></tr><tr><td>447.295455</td><td>141.685226</td><td>25.0</td><td>0.0</td><td>26.113636</td><td>25.170455</td><td>13.8</td><td>33.823864</td><td>2631.613636</td><td>98.404655</td><td>61.837208</td><td>396.372101</td><td>7.193182</td><td>1.1875</td><td>0.943182</td><td>3545.511475</td><td>3546.21582</td><td>3544.40918</td><td>3542.625</td><td>3542.238525</td><td>3540.943115</td><td>3544.136475</td><td>3542.59082</td><td>3542.20459</td><td>3542.727295</td><td>3541.488525</td><td>3540.03418</td><td>3541.71582</td><td>3540.647705</td><td>3542.40918</td><td>3542.29541</td><td>3544.147705</td><td>3542.102295</td><td>3544.25</td><td>3542.28418</td><td>3544.818115</td><td>3542.488525</td><td>&hellip;</td><td>-13.0</td><td>-12.0</td><td>-10.0</td><td>-12.0</td><td>-12.0</td><td>-11.0</td><td>-12.0</td><td>-13.0</td><td>-13.0</td><td>-12.0</td><td>-10.0</td><td>-12.0</td><td>-12.0</td><td>-10.0</td><td>-12.0</td><td>-13.0</td><td>-13.0</td><td>-12.0</td><td>-11.0</td><td>-12.0</td><td>-12.0</td><td>-10.0</td><td>-12.0</td><td>-13.0</td><td>-13.0</td><td>-12.0</td><td>-11.0</td><td>-12.0</td><td>-11.0</td><td>-11.0</td><td>-12.0</td><td>-13.0</td><td>-13.0</td><td>-12.0</td><td>-10.0</td><td>-12.0</td><td>1</td></tr><tr><td>430.859649</td><td>186.001755</td><td>26.0</td><td>0.0</td><td>26.991228</td><td>26.035088</td><td>13.766666</td><td>33.710526</td><td>2628.736842</td><td>98.370369</td><td>76.351852</td><td>394.759247</td><td>8.017544</td><td>1.280702</td><td>0.95614</td><td>3531.245605</td><td>3531.192871</td><td>3529.964844</td><td>3527.719238</td><td>3527.912354</td><td>3525.877197</td><td>3529.421143</td><td>3527.982422</td><td>3527.543945</td><td>3527.771973</td><td>3526.947266</td><td>3525.087646</td><td>3527.315674</td><td>3525.684326</td><td>3528.035156</td><td>3527.894775</td><td>3529.561523</td><td>3527.052734</td><td>3529.789551</td><td>3527.578857</td><td>3530.368408</td><td>3527.245605</td><td>&hellip;</td><td>-10.0</td><td>-10.0</td><td>-9.0</td><td>-10.0</td><td>-10.0</td><td>-9.0</td><td>-10.0</td><td>-10.0</td><td>-9.0</td><td>-10.0</td><td>-9.0</td><td>-10.0</td><td>-9.0</td><td>-8.0</td><td>-11.0</td><td>-10.0</td><td>-10.0</td><td>-10.0</td><td>-9.0</td><td>-11.0</td><td>-10.0</td><td>-8.0</td><td>-11.0</td><td>-10.0</td><td>-10.0</td><td>-10.0</td><td>-9.0</td><td>-11.0</td><td>-10.0</td><td>-8.0</td><td>-10.0</td><td>-10.0</td><td>-10.0</td><td>-10.0</td><td>-9.0</td><td>-11.0</td><td>1</td></tr><tr><td>409.671053</td><td>183.076309</td><td>27.0</td><td>0.0</td><td>27.861842</td><td>26.894737</td><td>13.764474</td><td>34.368421</td><td>2625.855263</td><td>98.204002</td><td>78.453331</td><td>395.119995</td><td>7.947368</td><td>1.276316</td><td>0.967105</td><td>3538.105225</td><td>3537.934326</td><td>3536.776367</td><td>3534.447266</td><td>3534.605225</td><td>3532.776367</td><td>3536.157959</td><td>3534.828857</td><td>3534.631592</td><td>3534.644775</td><td>3533.723633</td><td>3531.75</td><td>3533.894775</td><td>3532.75</td><td>3534.934326</td><td>3534.697266</td><td>3536.486816</td><td>3533.881592</td><td>3536.5</td><td>3534.434326</td><td>3536.776367</td><td>3534.342041</td><td>&hellip;</td><td>33.0</td><td>33.0</td><td>33.0</td><td>33.0</td><td>32.0</td><td>35.0</td><td>34.0</td><td>34.0</td><td>33.0</td><td>33.0</td><td>34.0</td><td>34.0</td><td>33.0</td><td>34.0</td><td>34.0</td><td>34.0</td><td>33.0</td><td>33.0</td><td>33.0</td><td>34.0</td><td>33.0</td><td>34.0</td><td>33.0</td><td>34.0</td><td>33.0</td><td>33.0</td><td>35.0</td><td>34.0</td><td>32.0</td><td>34.0</td><td>33.0</td><td>33.0</td><td>32.0</td><td>33.0</td><td>34.0</td><td>33.0</td><td>1</td></tr><tr><td>390.470588</td><td>158.868622</td><td>28.0</td><td>0.0</td><td>29.019608</td><td>28.058824</td><td>13.762745</td><td>35.029412</td><td>2623.156863</td><td>98.519997</td><td>80.599998</td><td>396.279999</td><td>6.941176</td><td>1.215686</td><td>0.960784</td><td>3546.098145</td><td>3545.980469</td><td>3544.784424</td><td>3542.862793</td><td>3542.941162</td><td>3540.941162</td><td>3544.274414</td><td>3542.960693</td><td>3542.764648</td><td>3542.960693</td><td>3541.941162</td><td>3540.450928</td><td>3542.39209</td><td>3541.0</td><td>3543.215576</td><td>3542.823486</td><td>3544.39209</td><td>3542.274414</td><td>3544.529297</td><td>3542.862793</td><td>3545.058838</td><td>3542.353027</td><td>&hellip;</td><td>-75.0</td><td>-75.0</td><td>-72.0</td><td>-74.0</td><td>-73.0</td><td>-76.0</td><td>-75.0</td><td>-74.0</td><td>-73.0</td><td>-76.0</td><td>-73.0</td><td>-75.0</td><td>-74.0</td><td>-74.0</td><td>-74.0</td><td>-75.0</td><td>-73.0</td><td>-76.0</td><td>-73.0</td><td>-75.0</td><td>-73.0</td><td>-75.0</td><td>-74.0</td><td>-75.0</td><td>-74.0</td><td>-75.0</td><td>-74.0</td><td>-75.0</td><td>-74.0</td><td>-75.0</td><td>-73.0</td><td>-75.0</td><td>-74.0</td><td>-74.0</td><td>-72.0</td><td>-73.0</td><td>1</td></tr><tr><td>379.466667</td><td>154.79834</td><td>29.0</td><td>0.0</td><td>29.833333</td><td>28.866667</td><td>13.748333</td><td>34.641667</td><td>2621.066667</td><td>98.754234</td><td>82.440681</td><td>397.084747</td><td>6.766667</td><td>1.208333</td><td>0.966667</td><td>3553.666748</td><td>3553.199951</td><td>3552.416748</td><td>3550.466553</td><td>3550.416748</td><td>3548.716553</td><td>3551.733398</td><td>3550.716553</td><td>3550.583252</td><td>3550.449951</td><td>3549.75</td><td>3548.133301</td><td>3549.883301</td><td>3548.833252</td><td>3550.983398</td><td>3550.56665</td><td>3552.133301</td><td>3549.966553</td><td>3552.266602</td><td>3550.533447</td><td>3552.399902</td><td>3550.199951</td><td>&hellip;</td><td>-28.0</td><td>-27.0</td><td>-26.0</td><td>-27.0</td><td>-27.0</td><td>-27.0</td><td>-27.0</td><td>-28.0</td><td>-28.0</td><td>-27.0</td><td>-27.0</td><td>-27.0</td><td>-26.0</td><td>-28.0</td><td>-27.0</td><td>-29.0</td><td>-28.0</td><td>-27.0</td><td>-27.0</td><td>-27.0</td><td>-26.0</td><td>-27.0</td><td>-27.0</td><td>-28.0</td><td>-28.0</td><td>-27.0</td><td>-27.0</td><td>-27.0</td><td>-26.0</td><td>-27.0</td><td>-26.0</td><td>-28.0</td><td>-28.0</td><td>-27.0</td><td>-27.0</td><td>-27.0</td><td>1</td></tr></tbody></table></div>"
      ],
      "text/plain": [
       "shape: (10, 274)\n",
       "┌────────────┬────────────┬─────────┬─────┬───┬─────────────┬─────────────┬─────────────┬───────┐\n",
       "│ D141       ┆ D22        ┆ D24_int ┆ D44 ┆ … ┆ D135_110_dv ┆ D135_111_dv ┆ D135_112_dv ┆ cycle │\n",
       "│ ---        ┆ ---        ┆ ---     ┆ --- ┆   ┆ ---         ┆ ---         ┆ ---         ┆ ---   │\n",
       "│ f64        ┆ f32        ┆ f64     ┆ f64 ┆   ┆ f32         ┆ f32         ┆ f32         ┆ i32   │\n",
       "╞════════════╪════════════╪═════════╪═════╪═══╪═════════════╪═════════════╪═════════════╪═══════╡\n",
       "│ 497.043478 ┆ 20.706522  ┆ 20.0    ┆ 0.0 ┆ … ┆ 46.0        ┆ 45.0        ┆ 45.0        ┆ 1     │\n",
       "│ 499.933036 ┆ 74.985718  ┆ 21.0    ┆ 0.0 ┆ … ┆ 69.0        ┆ 68.0        ┆ 69.0        ┆ 1     │\n",
       "│ 487.54717  ┆ 173.903778 ┆ 22.0    ┆ 0.0 ┆ … ┆ 78.0        ┆ 75.0        ┆ 75.0        ┆ 1     │\n",
       "│ 477.333333 ┆ 96.369301  ┆ 23.0    ┆ 0.0 ┆ … ┆ -74.0       ┆ -72.0       ┆ -73.0       ┆ 1     │\n",
       "│ …          ┆ …          ┆ …       ┆ …   ┆ … ┆ …           ┆ …           ┆ …           ┆ …     │\n",
       "│ 430.859649 ┆ 186.001755 ┆ 26.0    ┆ 0.0 ┆ … ┆ -10.0       ┆ -9.0        ┆ -11.0       ┆ 1     │\n",
       "│ 409.671053 ┆ 183.076309 ┆ 27.0    ┆ 0.0 ┆ … ┆ 33.0        ┆ 34.0        ┆ 33.0        ┆ 1     │\n",
       "│ 390.470588 ┆ 158.868622 ┆ 28.0    ┆ 0.0 ┆ … ┆ -74.0       ┆ -72.0       ┆ -73.0       ┆ 1     │\n",
       "│ 379.466667 ┆ 154.79834  ┆ 29.0    ┆ 0.0 ┆ … ┆ -27.0       ┆ -27.0       ┆ -27.0       ┆ 1     │\n",
       "└────────────┴────────────┴─────────┴─────┴───┴─────────────┴─────────────┴─────────────┴───────┘"
      ]
     },
     "execution_count": 161,
     "metadata": {},
     "output_type": "execute_result"
    }
   ],
   "source": [
    "res_data.head(10)"
   ]
  },
  {
   "cell_type": "code",
   "execution_count": 164,
   "id": "465515f5-27cb-4e62-b761-a94fcbccc990",
   "metadata": {
    "tags": []
   },
   "outputs": [
    {
     "data": {
      "text/html": [
       "<div><style>\n",
       ".dataframe > thead > tr > th,\n",
       ".dataframe > tbody > tr > td {\n",
       "  text-align: right;\n",
       "}\n",
       "</style>\n",
       "<small>shape: (5, 274)</small><table border=\"1\" class=\"dataframe\"><thead><tr><th>D141</th><th>D22</th><th>D24_int</th><th>D44</th><th>D40</th><th>D41</th><th>D52</th><th>D117</th><th>D133</th><th>D334</th><th>D356</th><th>D290</th><th>D135_diff</th><th>D136_diff</th><th>soc_diff</th><th>D135_1</th><th>D135_2</th><th>D135_3</th><th>D135_4</th><th>D135_5</th><th>D135_6</th><th>D135_7</th><th>D135_8</th><th>D135_9</th><th>D135_10</th><th>D135_11</th><th>D135_12</th><th>D135_13</th><th>D135_14</th><th>D135_15</th><th>D135_16</th><th>D135_17</th><th>D135_18</th><th>D135_19</th><th>D135_20</th><th>D135_21</th><th>D135_22</th><th>&hellip;</th><th>D135_77_dv</th><th>D135_78_dv</th><th>D135_79_dv</th><th>D135_80_dv</th><th>D135_81_dv</th><th>D135_82_dv</th><th>D135_83_dv</th><th>D135_84_dv</th><th>D135_85_dv</th><th>D135_86_dv</th><th>D135_87_dv</th><th>D135_88_dv</th><th>D135_89_dv</th><th>D135_90_dv</th><th>D135_91_dv</th><th>D135_92_dv</th><th>D135_93_dv</th><th>D135_94_dv</th><th>D135_95_dv</th><th>D135_96_dv</th><th>D135_97_dv</th><th>D135_98_dv</th><th>D135_99_dv</th><th>D135_100_dv</th><th>D135_101_dv</th><th>D135_102_dv</th><th>D135_103_dv</th><th>D135_104_dv</th><th>D135_105_dv</th><th>D135_106_dv</th><th>D135_107_dv</th><th>D135_108_dv</th><th>D135_109_dv</th><th>D135_110_dv</th><th>D135_111_dv</th><th>D135_112_dv</th><th>cycle</th></tr><tr><td>f64</td><td>f32</td><td>f64</td><td>f64</td><td>f64</td><td>f64</td><td>f32</td><td>f64</td><td>f64</td><td>f32</td><td>f32</td><td>f32</td><td>f64</td><td>f64</td><td>f32</td><td>f32</td><td>f32</td><td>f32</td><td>f32</td><td>f32</td><td>f32</td><td>f32</td><td>f32</td><td>f32</td><td>f32</td><td>f32</td><td>f32</td><td>f32</td><td>f32</td><td>f32</td><td>f32</td><td>f32</td><td>f32</td><td>f32</td><td>f32</td><td>f32</td><td>f32</td><td>&hellip;</td><td>f32</td><td>f32</td><td>f32</td><td>f32</td><td>f32</td><td>f32</td><td>f32</td><td>f32</td><td>f32</td><td>f32</td><td>f32</td><td>f32</td><td>f32</td><td>f32</td><td>f32</td><td>f32</td><td>f32</td><td>f32</td><td>f32</td><td>f32</td><td>f32</td><td>f32</td><td>f32</td><td>f32</td><td>f32</td><td>f32</td><td>f32</td><td>f32</td><td>f32</td><td>f32</td><td>f32</td><td>f32</td><td>f32</td><td>f32</td><td>f32</td><td>f32</td><td>i32</td></tr></thead><tbody><tr><td>420.467091</td><td>8.671762</td><td>60.0</td><td>0.0</td><td>61.059448</td><td>59.595541</td><td>13.728662</td><td>25.0</td><td>6.0</td><td>101.300003</td><td>77.442734</td><td>430.400879</td><td>19.021231</td><td>2.064756</td><td>1.463907</td><td>3837.836426</td><td>3840.528564</td><td>3834.917236</td><td>3834.110352</td><td>3836.656006</td><td>3834.972412</td><td>3838.350342</td><td>3836.785645</td><td>3839.059326</td><td>3836.146484</td><td>3840.698486</td><td>3840.208008</td><td>3839.390625</td><td>3839.902344</td><td>3834.250488</td><td>3843.44165</td><td>3837.745117</td><td>3834.310059</td><td>3847.250488</td><td>3846.467041</td><td>3845.549805</td><td>3842.027588</td><td>&hellip;</td><td>-3.0</td><td>-2.0</td><td>-2.0</td><td>-2.0</td><td>-2.0</td><td>-2.0</td><td>-1.0</td><td>-2.0</td><td>-2.0</td><td>-2.0</td><td>-1.0</td><td>-2.0</td><td>-2.0</td><td>-3.0</td><td>-2.0</td><td>-2.0</td><td>-2.0</td><td>-2.0</td><td>-2.0</td><td>-2.0</td><td>-3.0</td><td>-1.0</td><td>-2.0</td><td>-2.0</td><td>-2.0</td><td>-2.0</td><td>-2.0</td><td>-2.0</td><td>-2.0</td><td>-2.0</td><td>-2.0</td><td>-2.0</td><td>-2.0</td><td>-2.0</td><td>-2.0</td><td>-2.0</td><td>1</td></tr><tr><td>421.984733</td><td>8.987022</td><td>61.0</td><td>0.0</td><td>61.5</td><td>60.0</td><td>13.751908</td><td>25.0</td><td>6.0</td><td>101.300003</td><td>77.593498</td><td>430.894318</td><td>18.862595</td><td>1.896947</td><td>1.5</td><td>3842.045898</td><td>3844.73291</td><td>3839.221436</td><td>3838.450439</td><td>3840.961914</td><td>3839.26709</td><td>3842.648926</td><td>3841.099121</td><td>3843.343506</td><td>3840.450439</td><td>3844.954102</td><td>3844.511475</td><td>3843.679443</td><td>3844.183105</td><td>3838.679443</td><td>3847.687012</td><td>3842.030518</td><td>3838.69458</td><td>3851.503906</td><td>3850.770996</td><td>3849.862549</td><td>3846.320557</td><td>&hellip;</td><td>-2.0</td><td>-2.0</td><td>-1.0</td><td>-2.0</td><td>-2.0</td><td>-2.0</td><td>-2.0</td><td>-2.0</td><td>-2.0</td><td>-2.0</td><td>-2.0</td><td>-2.0</td><td>-2.0</td><td>-2.0</td><td>-2.0</td><td>-2.0</td><td>-1.0</td><td>-2.0</td><td>-2.0</td><td>-2.0</td><td>-3.0</td><td>-3.0</td><td>-2.0</td><td>-2.0</td><td>-2.0</td><td>-2.0</td><td>-2.0</td><td>-2.0</td><td>-2.0</td><td>-2.0</td><td>-2.0</td><td>-2.0</td><td>-2.0</td><td>-2.0</td><td>-2.0</td><td>-2.0</td><td>1</td></tr><tr><td>420.342308</td><td>5.921923</td><td>44.0</td><td>0.0</td><td>45.5</td><td>44.0</td><td>13.881346</td><td>26.534615</td><td>199.953846</td><td>101.00573</td><td>37.85178</td><td>412.490112</td><td>8.505769</td><td>1.0</td><td>1.5</td><td>3679.640381</td><td>3680.576904</td><td>3678.209717</td><td>3677.93457</td><td>3678.632812</td><td>3677.988525</td><td>3679.957764</td><td>3679.14624</td><td>3680.009521</td><td>3678.925049</td><td>3680.813477</td><td>3680.459717</td><td>3680.080811</td><td>3679.97876</td><td>3677.899902</td><td>3681.942383</td><td>3678.976807</td><td>3677.605713</td><td>3683.626953</td><td>3682.876953</td><td>3682.484619</td><td>3681.023193</td><td>&hellip;</td><td>107.0</td><td>111.0</td><td>110.0</td><td>110.0</td><td>110.0</td><td>112.0</td><td>108.0</td><td>112.0</td><td>107.0</td><td>109.0</td><td>110.0</td><td>112.0</td><td>110.0</td><td>113.0</td><td>107.0</td><td>111.0</td><td>108.0</td><td>110.0</td><td>110.0</td><td>111.0</td><td>109.0</td><td>112.0</td><td>109.0</td><td>112.0</td><td>108.0</td><td>110.0</td><td>108.0</td><td>110.0</td><td>108.0</td><td>114.0</td><td>108.0</td><td>113.0</td><td>110.0</td><td>111.0</td><td>109.0</td><td>112.0</td><td>2</td></tr><tr><td>407.357602</td><td>25.350107</td><td>45.0</td><td>0.0</td><td>46.146681</td><td>44.675589</td><td>13.879229</td><td>27.239829</td><td>196.895075</td><td>101.057861</td><td>38.384964</td><td>411.945343</td><td>9.304069</td><td>1.0</td><td>1.471092</td><td>3676.593262</td><td>3677.575928</td><td>3675.383301</td><td>3674.802979</td><td>3675.578125</td><td>3674.976562</td><td>3677.162842</td><td>3676.316895</td><td>3677.214111</td><td>3675.959229</td><td>3678.01709</td><td>3677.500977</td><td>3677.432617</td><td>3677.087891</td><td>3674.920654</td><td>3679.222656</td><td>3676.199219</td><td>3674.473145</td><td>3680.907959</td><td>3680.154297</td><td>3679.796631</td><td>3678.406738</td><td>&hellip;</td><td>-71.0</td><td>-72.0</td><td>-71.0</td><td>-74.0</td><td>-72.0</td><td>-72.0</td><td>-72.0</td><td>-75.0</td><td>-71.0</td><td>-71.0</td><td>-72.0</td><td>-75.0</td><td>-72.0</td><td>-72.0</td><td>-72.0</td><td>-73.0</td><td>-71.0</td><td>-73.0</td><td>-71.0</td><td>-74.0</td><td>-72.0</td><td>-72.0</td><td>-72.0</td><td>-74.0</td><td>-71.0</td><td>-71.0</td><td>-69.0</td><td>-73.0</td><td>-70.0</td><td>-73.0</td><td>-71.0</td><td>-75.0</td><td>-72.0</td><td>-72.0</td><td>-70.0</td><td>-74.0</td><td>2</td></tr><tr><td>440.396215</td><td>8.752927</td><td>46.0</td><td>0.0</td><td>47.276759</td><td>45.657895</td><td>13.850562</td><td>30.636606</td><td>191.751626</td><td>101.025276</td><td>41.584671</td><td>414.281219</td><td>10.480189</td><td>0.682732</td><td>1.618865</td><td>3695.394531</td><td>3696.570557</td><td>3693.871582</td><td>3693.518066</td><td>3694.242432</td><td>3693.59082</td><td>3695.851074</td><td>3695.078613</td><td>3695.858154</td><td>3694.653564</td><td>3696.844482</td><td>3696.36792</td><td>3696.133057</td><td>3696.075195</td><td>3693.587891</td><td>3698.396729</td><td>3695.050293</td><td>3693.164307</td><td>3700.37793</td><td>3699.610352</td><td>3699.256592</td><td>3697.592529</td><td>&hellip;</td><td>-18.0</td><td>-17.0</td><td>-18.0</td><td>-17.0</td><td>-18.0</td><td>-17.0</td><td>-18.0</td><td>-19.0</td><td>-18.0</td><td>-19.0</td><td>-18.0</td><td>-18.0</td><td>-18.0</td><td>-18.0</td><td>-17.0</td><td>-18.0</td><td>-19.0</td><td>-17.0</td><td>-18.0</td><td>-18.0</td><td>-19.0</td><td>-18.0</td><td>-18.0</td><td>-17.0</td><td>-17.0</td><td>-17.0</td><td>-18.0</td><td>-17.0</td><td>-17.0</td><td>-18.0</td><td>-17.0</td><td>-17.0</td><td>-18.0</td><td>-17.0</td><td>-18.0</td><td>-18.0</td><td>2</td></tr></tbody></table></div>"
      ],
      "text/plain": [
       "shape: (5, 274)\n",
       "┌────────────┬───────────┬─────────┬─────┬───┬─────────────┬─────────────┬─────────────┬───────┐\n",
       "│ D141       ┆ D22       ┆ D24_int ┆ D44 ┆ … ┆ D135_110_dv ┆ D135_111_dv ┆ D135_112_dv ┆ cycle │\n",
       "│ ---        ┆ ---       ┆ ---     ┆ --- ┆   ┆ ---         ┆ ---         ┆ ---         ┆ ---   │\n",
       "│ f64        ┆ f32       ┆ f64     ┆ f64 ┆   ┆ f32         ┆ f32         ┆ f32         ┆ i32   │\n",
       "╞════════════╪═══════════╪═════════╪═════╪═══╪═════════════╪═════════════╪═════════════╪═══════╡\n",
       "│ 420.467091 ┆ 8.671762  ┆ 60.0    ┆ 0.0 ┆ … ┆ -2.0        ┆ -2.0        ┆ -2.0        ┆ 1     │\n",
       "│ 421.984733 ┆ 8.987022  ┆ 61.0    ┆ 0.0 ┆ … ┆ -2.0        ┆ -2.0        ┆ -2.0        ┆ 1     │\n",
       "│ 420.342308 ┆ 5.921923  ┆ 44.0    ┆ 0.0 ┆ … ┆ 111.0       ┆ 109.0       ┆ 112.0       ┆ 2     │\n",
       "│ 407.357602 ┆ 25.350107 ┆ 45.0    ┆ 0.0 ┆ … ┆ -72.0       ┆ -70.0       ┆ -74.0       ┆ 2     │\n",
       "│ 440.396215 ┆ 8.752927  ┆ 46.0    ┆ 0.0 ┆ … ┆ -17.0       ┆ -18.0       ┆ -18.0       ┆ 2     │\n",
       "└────────────┴───────────┴─────────┴─────┴───┴─────────────┴─────────────┴─────────────┴───────┘"
      ]
     },
     "execution_count": 164,
     "metadata": {},
     "output_type": "execute_result"
    }
   ],
   "source": [
    "df = pl.read_parquet('processed_data/D3_3.parquet')\n",
    "df.head()"
   ]
  },
  {
   "cell_type": "code",
   "execution_count": null,
   "id": "363f2170-e4ba-43a6-ab7d-1532aea7acdc",
   "metadata": {},
   "outputs": [],
   "source": []
  }
 ],
 "metadata": {
  "kernelspec": {
   "display_name": "Python 3 (ipykernel)",
   "language": "python",
   "name": "python3"
  },
  "language_info": {
   "codemirror_mode": {
    "name": "ipython",
    "version": 3
   },
   "file_extension": ".py",
   "mimetype": "text/x-python",
   "name": "python",
   "nbconvert_exporter": "python",
   "pygments_lexer": "ipython3",
   "version": "3.10.0"
  }
 },
 "nbformat": 4,
 "nbformat_minor": 5
}
